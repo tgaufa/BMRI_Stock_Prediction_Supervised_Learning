{
 "cells": [
  {
   "attachments": {},
   "cell_type": "markdown",
   "metadata": {},
   "source": [
    "## 0. Load Required Libraries"
   ]
  },
  {
   "cell_type": "code",
   "execution_count": 21,
   "metadata": {},
   "outputs": [],
   "source": [
    "import pandas as pd\n",
    "import numpy as np\n",
    "import seaborn as sns\n",
    "import src.util as util"
   ]
  },
  {
   "attachments": {},
   "cell_type": "markdown",
   "metadata": {},
   "source": [
    "## 1. Import Configuration File"
   ]
  },
  {
   "cell_type": "code",
   "execution_count": 22,
   "metadata": {},
   "outputs": [],
   "source": [
    "config_data = util.load_config()"
   ]
  },
  {
   "attachments": {},
   "cell_type": "markdown",
   "metadata": {},
   "source": [
    "## 2. Load Dataset"
   ]
  },
  {
   "cell_type": "code",
   "execution_count": 23,
   "metadata": {},
   "outputs": [],
   "source": [
    "def load_dataset(config_data: dict) -> pd.DataFrame:\n",
    "    \n",
    "    \n",
    "    # Load every set of data\n",
    "    clean_data = util.pickle_load(config_data['clean_dataset_path'])\n",
    "\n",
    "    x_train = util.pickle_load(config_data[\"train_set_path\"][0])\n",
    "    y_train = util.pickle_load(config_data[\"train_set_path\"][1])\n",
    "\n",
    "    x_valid = util.pickle_load(config_data[\"valid_set_path\"][0])\n",
    "    y_valid = util.pickle_load(config_data[\"valid_set_path\"][1])\n",
    "\n",
    "    x_test = util.pickle_load(config_data[\"test_set_path\"][0])\n",
    "    y_test = util.pickle_load(config_data[\"test_set_path\"][1])\n",
    "\n",
    "    # Concatenate x and y each set\n",
    "    train_set = pd.concat([x_train, y_train], axis = 1)\n",
    "    valid_set = pd.concat([x_valid, y_valid], axis = 1)\n",
    "    test_set = pd.concat([x_test, y_test], axis = 1)\n",
    "\n",
    "    # Return 3 set of data\n",
    "    return clean_data, train_set, valid_set, test_set"
   ]
  },
  {
   "cell_type": "code",
   "execution_count": 24,
   "metadata": {},
   "outputs": [
    {
     "ename": "FileNotFoundError",
     "evalue": "[Errno 2] No such file or directory: 'data/processed/clean_dataset.pkl'",
     "output_type": "error",
     "traceback": [
      "\u001b[0;31m---------------------------------------------------------------------------\u001b[0m",
      "\u001b[0;31mFileNotFoundError\u001b[0m                         Traceback (most recent call last)",
      "Cell \u001b[0;32mIn[24], line 1\u001b[0m\n\u001b[0;32m----> 1\u001b[0m clean_data, train_set, valid_set, test_set \u001b[39m=\u001b[39m load_dataset(config_data)\n",
      "Cell \u001b[0;32mIn[23], line 5\u001b[0m, in \u001b[0;36mload_dataset\u001b[0;34m(config_data)\u001b[0m\n\u001b[1;32m      1\u001b[0m \u001b[39mdef\u001b[39;00m \u001b[39mload_dataset\u001b[39m(config_data: \u001b[39mdict\u001b[39m) \u001b[39m-\u001b[39m\u001b[39m>\u001b[39m pd\u001b[39m.\u001b[39mDataFrame:\n\u001b[1;32m      2\u001b[0m     \n\u001b[1;32m      3\u001b[0m     \n\u001b[1;32m      4\u001b[0m     \u001b[39m# Load every set of data\u001b[39;00m\n\u001b[0;32m----> 5\u001b[0m     clean_data \u001b[39m=\u001b[39m util\u001b[39m.\u001b[39;49mpickle_load(config_data[\u001b[39m'\u001b[39;49m\u001b[39mclean_dataset_path\u001b[39;49m\u001b[39m'\u001b[39;49m])\n\u001b[1;32m      7\u001b[0m     x_train \u001b[39m=\u001b[39m util\u001b[39m.\u001b[39mpickle_load(config_data[\u001b[39m\"\u001b[39m\u001b[39mtrain_set_path\u001b[39m\u001b[39m\"\u001b[39m][\u001b[39m0\u001b[39m])\n\u001b[1;32m      8\u001b[0m     y_train \u001b[39m=\u001b[39m util\u001b[39m.\u001b[39mpickle_load(config_data[\u001b[39m\"\u001b[39m\u001b[39mtrain_set_path\u001b[39m\u001b[39m\"\u001b[39m][\u001b[39m1\u001b[39m])\n",
      "File \u001b[0;32m~/Works/230407 - Data Science | Study Projects/230407 - Projects/BMRI_Stock_Prediction_Supervised_Learning/src/util.py:25\u001b[0m, in \u001b[0;36mpickle_load\u001b[0;34m(file_path)\u001b[0m\n\u001b[1;32m     23\u001b[0m \u001b[39mdef\u001b[39;00m \u001b[39mpickle_load\u001b[39m(file_path: \u001b[39mstr\u001b[39m):\n\u001b[1;32m     24\u001b[0m     \u001b[39m# Load and return pickle file\u001b[39;00m\n\u001b[0;32m---> 25\u001b[0m     \u001b[39mreturn\u001b[39;00m joblib\u001b[39m.\u001b[39;49mload(file_path)\n",
      "File \u001b[0;32m/Library/Frameworks/Python.framework/Versions/3.11/lib/python3.11/site-packages/joblib/numpy_pickle.py:650\u001b[0m, in \u001b[0;36mload\u001b[0;34m(filename, mmap_mode)\u001b[0m\n\u001b[1;32m    648\u001b[0m         obj \u001b[39m=\u001b[39m _unpickle(fobj)\n\u001b[1;32m    649\u001b[0m \u001b[39melse\u001b[39;00m:\n\u001b[0;32m--> 650\u001b[0m     \u001b[39mwith\u001b[39;00m \u001b[39mopen\u001b[39;49m(filename, \u001b[39m'\u001b[39;49m\u001b[39mrb\u001b[39;49m\u001b[39m'\u001b[39;49m) \u001b[39mas\u001b[39;00m f:\n\u001b[1;32m    651\u001b[0m         \u001b[39mwith\u001b[39;00m _read_fileobject(f, filename, mmap_mode) \u001b[39mas\u001b[39;00m fobj:\n\u001b[1;32m    652\u001b[0m             \u001b[39mif\u001b[39;00m \u001b[39misinstance\u001b[39m(fobj, \u001b[39mstr\u001b[39m):\n\u001b[1;32m    653\u001b[0m                 \u001b[39m# if the returned file object is a string, this means we\u001b[39;00m\n\u001b[1;32m    654\u001b[0m                 \u001b[39m# try to load a pickle file generated with an version of\u001b[39;00m\n\u001b[1;32m    655\u001b[0m                 \u001b[39m# Joblib so we load it with joblib compatibility function.\u001b[39;00m\n",
      "\u001b[0;31mFileNotFoundError\u001b[0m: [Errno 2] No such file or directory: 'data/processed/clean_dataset.pkl'"
     ]
    }
   ],
   "source": [
    "clean_data, train_set, valid_set, test_set = load_dataset(config_data)"
   ]
  },
  {
   "cell_type": "code",
   "execution_count": 29,
   "metadata": {},
   "outputs": [],
   "source": [
    "def load_dataset_ran(config_data: dict) -> pd.DataFrame:\n",
    "    \n",
    "    # Load every set of data\n",
    "    #clean_data = util.pickle_load(config_data['clean_dataset_path'])\n",
    "\n",
    "    x_train_ran = util.pickle_load(config_data[\"train_ran_set_path\"][0])\n",
    "    y_train_ran = util.pickle_load(config_data[\"train_ran_set_path\"][1])\n",
    "\n",
    "    x_valid_ran = util.pickle_load(config_data[\"valid_ran_set_path\"][0])\n",
    "    y_valid_ran = util.pickle_load(config_data[\"valid_ran_set_path\"][1])\n",
    "\n",
    "    x_test_ran = util.pickle_load(config_data[\"test_ran_set_path\"][0])\n",
    "    y_test_ran = util.pickle_load(config_data[\"test_ran_set_path\"][1])\n",
    "\n",
    "    # Concatenate x and y each set\n",
    "    train_set_ran = pd.concat([x_train_ran, y_train_ran], axis = 1)\n",
    "    valid_set_ran = pd.concat([x_valid_ran, y_valid_ran], axis = 1)\n",
    "    test_set_ran = pd.concat([x_test_ran, y_test_ran], axis = 1)\n",
    "\n",
    "    # Return 3 set of data\n",
    "    return train_set_ran, valid_set_ran, test_set_ran"
   ]
  },
  {
   "cell_type": "code",
   "execution_count": 30,
   "metadata": {},
   "outputs": [],
   "source": [
    "train_set_ran, valid_set_ran, test_set_ran = load_dataset_ran(config_data)"
   ]
  },
  {
   "attachments": {},
   "cell_type": "markdown",
   "metadata": {},
   "source": [
    "## 3. Feature Engineering"
   ]
  },
  {
   "attachments": {},
   "cell_type": "markdown",
   "metadata": {},
   "source": [
    "### 3.1 Stock Return Data Transform"
   ]
  },
  {
   "cell_type": "code",
   "execution_count": 31,
   "metadata": {},
   "outputs": [],
   "source": [
    "# as the way to normalize all of data value, its relevant if we change them into return percentage.\n",
    "# the advantage are: \n",
    "# 1. the data value will vary from -0.5 to +0.5. While its possible, its less likely stock change will be up/down more than 50% within 2 days. \n",
    "# 2. the stock return is something we want to know anyway therefore its a representative approach in this case\n",
    "\n",
    "def transform_to_stock_return(dataset, params):\n",
    "    # define the return for all stock based on the next day of its price change percentage \n",
    "    dataset = (dataset.shift(periods=1)-dataset)*100/dataset\n",
    "    \n",
    "    #define the target return column name\n",
    "    target_return_column_name = f\"{params['target']} Return D+2\"\n",
    "    \n",
    "    # add additional column of our targeted stock return\n",
    "    dataset[target_return_column_name] = dataset[params['target']].shift(periods=-2)\n",
    "\n",
    "    # handling missing value of shifted targeted column & its reference column\n",
    "    dataset.dropna(subset=params['target'], inplace=True)\n",
    "    dataset.dropna(subset=target_return_column_name, inplace=True)\n",
    "\n",
    "    # handling missing value of the remaining columns\n",
    "    #dataset.fillna(0, inplace=True)\n",
    "\n",
    "    return dataset\n",
    "\n"
   ]
  },
  {
   "cell_type": "code",
   "execution_count": 32,
   "metadata": {},
   "outputs": [],
   "source": [
    "def remove_outliers(df,n_std):\n",
    "    for col in df.columns:\n",
    "        #print('Working on column: {}'.format(col))\n",
    "        \n",
    "        mean = df[col].mean()\n",
    "        sd = df[col].std()\n",
    "        \n",
    "        df = df[(df[col] <= mean+(n_std*sd))]\n",
    "        \n",
    "    return df\n",
    "\n"
   ]
  },
  {
   "cell_type": "code",
   "execution_count": 7,
   "metadata": {},
   "outputs": [],
   "source": [
    "train_set_feng = transform_to_stock_return(dataset=train_set, params=config_data)\n",
    "train_set_feng = remove_outliers(train_set_feng, 3)\n",
    "\n"
   ]
  },
  {
   "cell_type": "code",
   "execution_count": 8,
   "metadata": {},
   "outputs": [
    {
     "data": {
      "text/plain": [
       "0"
      ]
     },
     "metadata": {},
     "output_type": "display_data"
    },
    {
     "data": {
      "text/html": [
       "<div>\n",
       "<style scoped>\n",
       "    .dataframe tbody tr th:only-of-type {\n",
       "        vertical-align: middle;\n",
       "    }\n",
       "\n",
       "    .dataframe tbody tr th {\n",
       "        vertical-align: top;\n",
       "    }\n",
       "\n",
       "    .dataframe thead th {\n",
       "        text-align: right;\n",
       "    }\n",
       "</style>\n",
       "<table border=\"1\" class=\"dataframe\">\n",
       "  <thead>\n",
       "    <tr style=\"text-align: right;\">\n",
       "      <th></th>\n",
       "      <th>Date</th>\n",
       "      <th>Min</th>\n",
       "      <th>Max</th>\n",
       "    </tr>\n",
       "  </thead>\n",
       "  <tbody>\n",
       "    <tr>\n",
       "      <th>count</th>\n",
       "      <td>572</td>\n",
       "      <td>572.000000</td>\n",
       "      <td>572.000000</td>\n",
       "    </tr>\n",
       "    <tr>\n",
       "      <th>mean</th>\n",
       "      <td>2019-08-23 17:37:20.559440640</td>\n",
       "      <td>-0.397805</td>\n",
       "      <td>0.115837</td>\n",
       "    </tr>\n",
       "    <tr>\n",
       "      <th>min</th>\n",
       "      <td>2017-01-11 00:00:00</td>\n",
       "      <td>-58.644068</td>\n",
       "      <td>0.000000</td>\n",
       "    </tr>\n",
       "    <tr>\n",
       "      <th>25%</th>\n",
       "      <td>2018-06-14 18:00:00</td>\n",
       "      <td>-1.603226</td>\n",
       "      <td>0.000000</td>\n",
       "    </tr>\n",
       "    <tr>\n",
       "      <th>50%</th>\n",
       "      <td>2019-09-05 12:00:00</td>\n",
       "      <td>0.000000</td>\n",
       "      <td>0.000000</td>\n",
       "    </tr>\n",
       "    <tr>\n",
       "      <th>75%</th>\n",
       "      <td>2020-11-04 06:00:00</td>\n",
       "      <td>0.000000</td>\n",
       "      <td>1.762764</td>\n",
       "    </tr>\n",
       "    <tr>\n",
       "      <th>max</th>\n",
       "      <td>2021-08-27 00:00:00</td>\n",
       "      <td>0.000000</td>\n",
       "      <td>52.884615</td>\n",
       "    </tr>\n",
       "    <tr>\n",
       "      <th>std</th>\n",
       "      <td>NaN</td>\n",
       "      <td>0.000000</td>\n",
       "      <td>5.517171</td>\n",
       "    </tr>\n",
       "  </tbody>\n",
       "</table>\n",
       "</div>"
      ],
      "text/plain": [
       "                                Date         Min         Max\n",
       "count                            572  572.000000  572.000000\n",
       "mean   2019-08-23 17:37:20.559440640   -0.397805    0.115837\n",
       "min              2017-01-11 00:00:00  -58.644068    0.000000\n",
       "25%              2018-06-14 18:00:00   -1.603226    0.000000\n",
       "50%              2019-09-05 12:00:00    0.000000    0.000000\n",
       "75%              2020-11-04 06:00:00    0.000000    1.762764\n",
       "max              2021-08-27 00:00:00    0.000000   52.884615\n",
       "std                              NaN    0.000000    5.517171"
      ]
     },
     "metadata": {},
     "output_type": "display_data"
    },
    {
     "data": {
      "text/plain": [
       "(572, 105)"
      ]
     },
     "metadata": {},
     "output_type": "display_data"
    }
   ],
   "source": [
    "display(train_set_feng.isna().any().sum())\n",
    "display(util.summary_dataset_describe(dataset=train_set_feng))\n",
    "display(train_set_feng.shape)"
   ]
  },
  {
   "cell_type": "code",
   "execution_count": 9,
   "metadata": {},
   "outputs": [],
   "source": [
    "test_set_feng = transform_to_stock_return(dataset=test_set, params=config_data)\n",
    "test_set_feng = remove_outliers(test_set_feng, 3)"
   ]
  },
  {
   "cell_type": "code",
   "execution_count": 10,
   "metadata": {},
   "outputs": [
    {
     "data": {
      "text/plain": [
       "0"
      ]
     },
     "metadata": {},
     "output_type": "display_data"
    },
    {
     "data": {
      "text/html": [
       "<div>\n",
       "<style scoped>\n",
       "    .dataframe tbody tr th:only-of-type {\n",
       "        vertical-align: middle;\n",
       "    }\n",
       "\n",
       "    .dataframe tbody tr th {\n",
       "        vertical-align: top;\n",
       "    }\n",
       "\n",
       "    .dataframe thead th {\n",
       "        text-align: right;\n",
       "    }\n",
       "</style>\n",
       "<table border=\"1\" class=\"dataframe\">\n",
       "  <thead>\n",
       "    <tr style=\"text-align: right;\">\n",
       "      <th></th>\n",
       "      <th>Date</th>\n",
       "      <th>Min</th>\n",
       "      <th>Max</th>\n",
       "    </tr>\n",
       "  </thead>\n",
       "  <tbody>\n",
       "    <tr>\n",
       "      <th>count</th>\n",
       "      <td>146</td>\n",
       "      <td>146.000000</td>\n",
       "      <td>146.000000</td>\n",
       "    </tr>\n",
       "    <tr>\n",
       "      <th>mean</th>\n",
       "      <td>2022-01-28 10:11:30.410958848</td>\n",
       "      <td>-0.955964</td>\n",
       "      <td>0.459660</td>\n",
       "    </tr>\n",
       "    <tr>\n",
       "      <th>min</th>\n",
       "      <td>2021-09-10 00:00:00</td>\n",
       "      <td>-25.925926</td>\n",
       "      <td>0.000000</td>\n",
       "    </tr>\n",
       "    <tr>\n",
       "      <th>25%</th>\n",
       "      <td>2021-11-17 06:00:00</td>\n",
       "      <td>-3.832011</td>\n",
       "      <td>0.000000</td>\n",
       "    </tr>\n",
       "    <tr>\n",
       "      <th>50%</th>\n",
       "      <td>2022-01-25 12:00:00</td>\n",
       "      <td>-0.471961</td>\n",
       "      <td>1.452997</td>\n",
       "    </tr>\n",
       "    <tr>\n",
       "      <th>75%</th>\n",
       "      <td>2022-03-31 18:00:00</td>\n",
       "      <td>0.000000</td>\n",
       "      <td>5.263162</td>\n",
       "    </tr>\n",
       "    <tr>\n",
       "      <th>max</th>\n",
       "      <td>2022-06-27 00:00:00</td>\n",
       "      <td>0.000000</td>\n",
       "      <td>7.526882</td>\n",
       "    </tr>\n",
       "    <tr>\n",
       "      <th>std</th>\n",
       "      <td>NaN</td>\n",
       "      <td>0.000000</td>\n",
       "      <td>6.528549</td>\n",
       "    </tr>\n",
       "  </tbody>\n",
       "</table>\n",
       "</div>"
      ],
      "text/plain": [
       "                                Date         Min         Max\n",
       "count                            146  146.000000  146.000000\n",
       "mean   2022-01-28 10:11:30.410958848   -0.955964    0.459660\n",
       "min              2021-09-10 00:00:00  -25.925926    0.000000\n",
       "25%              2021-11-17 06:00:00   -3.832011    0.000000\n",
       "50%              2022-01-25 12:00:00   -0.471961    1.452997\n",
       "75%              2022-03-31 18:00:00    0.000000    5.263162\n",
       "max              2022-06-27 00:00:00    0.000000    7.526882\n",
       "std                              NaN    0.000000    6.528549"
      ]
     },
     "metadata": {},
     "output_type": "display_data"
    },
    {
     "data": {
      "text/plain": [
       "(146, 105)"
      ]
     },
     "metadata": {},
     "output_type": "display_data"
    }
   ],
   "source": [
    "display(test_set_feng.isna().any().sum())\n",
    "display(util.summary_dataset_describe(dataset=test_set_feng))\n",
    "display(test_set_feng.shape)"
   ]
  },
  {
   "cell_type": "code",
   "execution_count": 11,
   "metadata": {},
   "outputs": [],
   "source": [
    "val_set_feng = transform_to_stock_return(dataset=valid_set, params=config_data)\n",
    "val_set_feng = remove_outliers(val_set_feng, 3)"
   ]
  },
  {
   "cell_type": "code",
   "execution_count": 12,
   "metadata": {},
   "outputs": [
    {
     "data": {
      "text/plain": [
       "0"
      ]
     },
     "metadata": {},
     "output_type": "display_data"
    },
    {
     "data": {
      "text/html": [
       "<div>\n",
       "<style scoped>\n",
       "    .dataframe tbody tr th:only-of-type {\n",
       "        vertical-align: middle;\n",
       "    }\n",
       "\n",
       "    .dataframe tbody tr th {\n",
       "        vertical-align: top;\n",
       "    }\n",
       "\n",
       "    .dataframe thead th {\n",
       "        text-align: right;\n",
       "    }\n",
       "</style>\n",
       "<table border=\"1\" class=\"dataframe\">\n",
       "  <thead>\n",
       "    <tr style=\"text-align: right;\">\n",
       "      <th></th>\n",
       "      <th>Date</th>\n",
       "      <th>Min</th>\n",
       "      <th>Max</th>\n",
       "    </tr>\n",
       "  </thead>\n",
       "  <tbody>\n",
       "    <tr>\n",
       "      <th>count</th>\n",
       "      <td>133</td>\n",
       "      <td>133.000000</td>\n",
       "      <td>133.000000</td>\n",
       "    </tr>\n",
       "    <tr>\n",
       "      <th>mean</th>\n",
       "      <td>2022-11-17 22:22:33.383458560</td>\n",
       "      <td>-0.756308</td>\n",
       "      <td>0.411870</td>\n",
       "    </tr>\n",
       "    <tr>\n",
       "      <th>min</th>\n",
       "      <td>2022-07-05 00:00:00</td>\n",
       "      <td>-25.882353</td>\n",
       "      <td>0.000000</td>\n",
       "    </tr>\n",
       "    <tr>\n",
       "      <th>25%</th>\n",
       "      <td>2022-09-20 00:00:00</td>\n",
       "      <td>-3.030303</td>\n",
       "      <td>0.000000</td>\n",
       "    </tr>\n",
       "    <tr>\n",
       "      <th>50%</th>\n",
       "      <td>2022-11-21 00:00:00</td>\n",
       "      <td>-0.467290</td>\n",
       "      <td>0.961538</td>\n",
       "    </tr>\n",
       "    <tr>\n",
       "      <th>75%</th>\n",
       "      <td>2023-01-24 00:00:00</td>\n",
       "      <td>0.000000</td>\n",
       "      <td>4.201681</td>\n",
       "    </tr>\n",
       "    <tr>\n",
       "      <th>max</th>\n",
       "      <td>2023-04-04 00:00:00</td>\n",
       "      <td>0.000000</td>\n",
       "      <td>7.526882</td>\n",
       "    </tr>\n",
       "    <tr>\n",
       "      <th>std</th>\n",
       "      <td>NaN</td>\n",
       "      <td>0.000000</td>\n",
       "      <td>6.351772</td>\n",
       "    </tr>\n",
       "  </tbody>\n",
       "</table>\n",
       "</div>"
      ],
      "text/plain": [
       "                                Date         Min         Max\n",
       "count                            133  133.000000  133.000000\n",
       "mean   2022-11-17 22:22:33.383458560   -0.756308    0.411870\n",
       "min              2022-07-05 00:00:00  -25.882353    0.000000\n",
       "25%              2022-09-20 00:00:00   -3.030303    0.000000\n",
       "50%              2022-11-21 00:00:00   -0.467290    0.961538\n",
       "75%              2023-01-24 00:00:00    0.000000    4.201681\n",
       "max              2023-04-04 00:00:00    0.000000    7.526882\n",
       "std                              NaN    0.000000    6.351772"
      ]
     },
     "metadata": {},
     "output_type": "display_data"
    },
    {
     "data": {
      "text/plain": [
       "(133, 105)"
      ]
     },
     "metadata": {},
     "output_type": "display_data"
    }
   ],
   "source": [
    "display(val_set_feng.isna().any().sum())\n",
    "display(util.summary_dataset_describe(dataset=val_set_feng))\n",
    "display(val_set_feng.shape)"
   ]
  },
  {
   "cell_type": "code",
   "execution_count": null,
   "metadata": {},
   "outputs": [],
   "source": []
  },
  {
   "cell_type": "code",
   "execution_count": 33,
   "metadata": {},
   "outputs": [
    {
     "ename": "ValueError",
     "evalue": "Cannot set a DataFrame with multiple columns to the single column BMRI.JK Return D+2",
     "output_type": "error",
     "traceback": [
      "\u001b[0;31m---------------------------------------------------------------------------\u001b[0m",
      "\u001b[0;31mValueError\u001b[0m                                Traceback (most recent call last)",
      "Cell \u001b[0;32mIn[33], line 1\u001b[0m\n\u001b[0;32m----> 1\u001b[0m train_set_ran_feng \u001b[39m=\u001b[39m transform_to_stock_return(dataset\u001b[39m=\u001b[39;49mtrain_set_ran, params\u001b[39m=\u001b[39;49mconfig_data)\n\u001b[1;32m      2\u001b[0m train_set_ran_feng \u001b[39m=\u001b[39m remove_outliers(train_set_ran_feng, \u001b[39m3\u001b[39m)\n",
      "Cell \u001b[0;32mIn[31], line 14\u001b[0m, in \u001b[0;36mtransform_to_stock_return\u001b[0;34m(dataset, params)\u001b[0m\n\u001b[1;32m     11\u001b[0m target_return_column_name \u001b[39m=\u001b[39m \u001b[39mf\u001b[39m\u001b[39m\"\u001b[39m\u001b[39m{\u001b[39;00mparams[\u001b[39m'\u001b[39m\u001b[39mtarget\u001b[39m\u001b[39m'\u001b[39m]\u001b[39m}\u001b[39;00m\u001b[39m Return D+2\u001b[39m\u001b[39m\"\u001b[39m\n\u001b[1;32m     13\u001b[0m \u001b[39m# add additional column of our targeted stock return\u001b[39;00m\n\u001b[0;32m---> 14\u001b[0m dataset[target_return_column_name] \u001b[39m=\u001b[39m dataset[params[\u001b[39m'\u001b[39m\u001b[39mtarget\u001b[39m\u001b[39m'\u001b[39m]]\u001b[39m.\u001b[39mshift(periods\u001b[39m=\u001b[39m\u001b[39m-\u001b[39m\u001b[39m2\u001b[39m)\n\u001b[1;32m     16\u001b[0m \u001b[39m# handling missing value of shifted targeted column & its reference column\u001b[39;00m\n\u001b[1;32m     17\u001b[0m dataset\u001b[39m.\u001b[39mdropna(subset\u001b[39m=\u001b[39mparams[\u001b[39m'\u001b[39m\u001b[39mtarget\u001b[39m\u001b[39m'\u001b[39m], inplace\u001b[39m=\u001b[39m\u001b[39mTrue\u001b[39;00m)\n",
      "File \u001b[0;32m/Library/Frameworks/Python.framework/Versions/3.11/lib/python3.11/site-packages/pandas/core/frame.py:3970\u001b[0m, in \u001b[0;36mDataFrame.__setitem__\u001b[0;34m(self, key, value)\u001b[0m\n\u001b[1;32m   3968\u001b[0m     \u001b[39mself\u001b[39m\u001b[39m.\u001b[39m_setitem_array(key, value)\n\u001b[1;32m   3969\u001b[0m \u001b[39melif\u001b[39;00m \u001b[39misinstance\u001b[39m(value, DataFrame):\n\u001b[0;32m-> 3970\u001b[0m     \u001b[39mself\u001b[39;49m\u001b[39m.\u001b[39;49m_set_item_frame_value(key, value)\n\u001b[1;32m   3971\u001b[0m \u001b[39melif\u001b[39;00m (\n\u001b[1;32m   3972\u001b[0m     is_list_like(value)\n\u001b[1;32m   3973\u001b[0m     \u001b[39mand\u001b[39;00m \u001b[39mnot\u001b[39;00m \u001b[39mself\u001b[39m\u001b[39m.\u001b[39mcolumns\u001b[39m.\u001b[39mis_unique\n\u001b[1;32m   3974\u001b[0m     \u001b[39mand\u001b[39;00m \u001b[39m1\u001b[39m \u001b[39m<\u001b[39m \u001b[39mlen\u001b[39m(\u001b[39mself\u001b[39m\u001b[39m.\u001b[39mcolumns\u001b[39m.\u001b[39mget_indexer_for([key])) \u001b[39m==\u001b[39m \u001b[39mlen\u001b[39m(value)\n\u001b[1;32m   3975\u001b[0m ):\n\u001b[1;32m   3976\u001b[0m     \u001b[39m# Column to set is duplicated\u001b[39;00m\n\u001b[1;32m   3977\u001b[0m     \u001b[39mself\u001b[39m\u001b[39m.\u001b[39m_setitem_array([key], value)\n",
      "File \u001b[0;32m/Library/Frameworks/Python.framework/Versions/3.11/lib/python3.11/site-packages/pandas/core/frame.py:4125\u001b[0m, in \u001b[0;36mDataFrame._set_item_frame_value\u001b[0;34m(self, key, value)\u001b[0m\n\u001b[1;32m   4122\u001b[0m     \u001b[39mreturn\u001b[39;00m\n\u001b[1;32m   4124\u001b[0m \u001b[39mif\u001b[39;00m \u001b[39mlen\u001b[39m(value\u001b[39m.\u001b[39mcolumns) \u001b[39m!=\u001b[39m \u001b[39m1\u001b[39m:\n\u001b[0;32m-> 4125\u001b[0m     \u001b[39mraise\u001b[39;00m \u001b[39mValueError\u001b[39;00m(\n\u001b[1;32m   4126\u001b[0m         \u001b[39m\"\u001b[39m\u001b[39mCannot set a DataFrame with multiple columns to the single \u001b[39m\u001b[39m\"\u001b[39m\n\u001b[1;32m   4127\u001b[0m         \u001b[39mf\u001b[39m\u001b[39m\"\u001b[39m\u001b[39mcolumn \u001b[39m\u001b[39m{\u001b[39;00mkey\u001b[39m}\u001b[39;00m\u001b[39m\"\u001b[39m\n\u001b[1;32m   4128\u001b[0m     )\n\u001b[1;32m   4130\u001b[0m \u001b[39mself\u001b[39m[key] \u001b[39m=\u001b[39m value[value\u001b[39m.\u001b[39mcolumns[\u001b[39m0\u001b[39m]]\n",
      "\u001b[0;31mValueError\u001b[0m: Cannot set a DataFrame with multiple columns to the single column BMRI.JK Return D+2"
     ]
    }
   ],
   "source": [
    "train_set_ran_feng = transform_to_stock_return(dataset=train_set_ran, params=config_data)\n",
    "train_set_ran_feng = remove_outliers(train_set_ran_feng, 3)\n",
    "\n"
   ]
  },
  {
   "cell_type": "code",
   "execution_count": 34,
   "metadata": {},
   "outputs": [
    {
     "ename": "NameError",
     "evalue": "name 'train_set_ran_feng' is not defined",
     "output_type": "error",
     "traceback": [
      "\u001b[0;31m---------------------------------------------------------------------------\u001b[0m",
      "\u001b[0;31mNameError\u001b[0m                                 Traceback (most recent call last)",
      "Cell \u001b[0;32mIn[34], line 1\u001b[0m\n\u001b[0;32m----> 1\u001b[0m display(train_set_ran_feng\u001b[39m.\u001b[39misna()\u001b[39m.\u001b[39many()\u001b[39m.\u001b[39msum())\n\u001b[1;32m      2\u001b[0m display(util\u001b[39m.\u001b[39msummary_dataset_describe(dataset\u001b[39m=\u001b[39mtrain_set_ran_feng))\n\u001b[1;32m      3\u001b[0m display(train_set_ran_feng\u001b[39m.\u001b[39mshape)\n",
      "\u001b[0;31mNameError\u001b[0m: name 'train_set_ran_feng' is not defined"
     ]
    }
   ],
   "source": [
    "display(train_set_ran_feng.isna().any().sum())\n",
    "display(util.summary_dataset_describe(dataset=train_set_ran_feng))\n",
    "display(train_set_ran_feng.shape)"
   ]
  },
  {
   "cell_type": "code",
   "execution_count": null,
   "metadata": {},
   "outputs": [],
   "source": [
    "test_set_ran_feng = transform_to_stock_return(dataset=test_set_ran, params=config_data)\n",
    "test_set_ran_feng = remove_outliers(test_set_ran_feng, 3)"
   ]
  },
  {
   "cell_type": "code",
   "execution_count": null,
   "metadata": {},
   "outputs": [
    {
     "data": {
      "text/plain": [
       "0"
      ]
     },
     "metadata": {},
     "output_type": "display_data"
    },
    {
     "data": {
      "text/html": [
       "<div>\n",
       "<style scoped>\n",
       "    .dataframe tbody tr th:only-of-type {\n",
       "        vertical-align: middle;\n",
       "    }\n",
       "\n",
       "    .dataframe tbody tr th {\n",
       "        vertical-align: top;\n",
       "    }\n",
       "\n",
       "    .dataframe thead th {\n",
       "        text-align: right;\n",
       "    }\n",
       "</style>\n",
       "<table border=\"1\" class=\"dataframe\">\n",
       "  <thead>\n",
       "    <tr style=\"text-align: right;\">\n",
       "      <th></th>\n",
       "      <th>Date</th>\n",
       "      <th>Min</th>\n",
       "      <th>Max</th>\n",
       "    </tr>\n",
       "  </thead>\n",
       "  <tbody>\n",
       "    <tr>\n",
       "      <th>count</th>\n",
       "      <td>146</td>\n",
       "      <td>146.000000</td>\n",
       "      <td>146.000000</td>\n",
       "    </tr>\n",
       "    <tr>\n",
       "      <th>mean</th>\n",
       "      <td>2022-01-28 10:11:30.410958848</td>\n",
       "      <td>-0.955964</td>\n",
       "      <td>0.459660</td>\n",
       "    </tr>\n",
       "    <tr>\n",
       "      <th>min</th>\n",
       "      <td>2021-09-10 00:00:00</td>\n",
       "      <td>-25.925926</td>\n",
       "      <td>0.000000</td>\n",
       "    </tr>\n",
       "    <tr>\n",
       "      <th>25%</th>\n",
       "      <td>2021-11-17 06:00:00</td>\n",
       "      <td>-3.832011</td>\n",
       "      <td>0.000000</td>\n",
       "    </tr>\n",
       "    <tr>\n",
       "      <th>50%</th>\n",
       "      <td>2022-01-25 12:00:00</td>\n",
       "      <td>-0.471961</td>\n",
       "      <td>1.452997</td>\n",
       "    </tr>\n",
       "    <tr>\n",
       "      <th>75%</th>\n",
       "      <td>2022-03-31 18:00:00</td>\n",
       "      <td>0.000000</td>\n",
       "      <td>5.263162</td>\n",
       "    </tr>\n",
       "    <tr>\n",
       "      <th>max</th>\n",
       "      <td>2022-06-27 00:00:00</td>\n",
       "      <td>0.000000</td>\n",
       "      <td>7.526882</td>\n",
       "    </tr>\n",
       "    <tr>\n",
       "      <th>std</th>\n",
       "      <td>NaN</td>\n",
       "      <td>0.000000</td>\n",
       "      <td>6.528549</td>\n",
       "    </tr>\n",
       "  </tbody>\n",
       "</table>\n",
       "</div>"
      ],
      "text/plain": [
       "                                Date         Min         Max\n",
       "count                            146  146.000000  146.000000\n",
       "mean   2022-01-28 10:11:30.410958848   -0.955964    0.459660\n",
       "min              2021-09-10 00:00:00  -25.925926    0.000000\n",
       "25%              2021-11-17 06:00:00   -3.832011    0.000000\n",
       "50%              2022-01-25 12:00:00   -0.471961    1.452997\n",
       "75%              2022-03-31 18:00:00    0.000000    5.263162\n",
       "max              2022-06-27 00:00:00    0.000000    7.526882\n",
       "std                              NaN    0.000000    6.528549"
      ]
     },
     "metadata": {},
     "output_type": "display_data"
    },
    {
     "data": {
      "text/plain": [
       "(146, 105)"
      ]
     },
     "metadata": {},
     "output_type": "display_data"
    }
   ],
   "source": [
    "display(test_set_ran_feng.isna().any().sum())\n",
    "display(util.summary_dataset_describe(dataset=test_set_ran_feng))\n",
    "display(test_set_ran_feng.shape)"
   ]
  },
  {
   "cell_type": "code",
   "execution_count": null,
   "metadata": {},
   "outputs": [],
   "source": [
    "val_set_ran_feng = transform_to_stock_return(dataset=valid_set_ran, params=config_data)\n",
    "val_set_ran_feng = remove_outliers(val_set_ran_feng, 3)"
   ]
  },
  {
   "cell_type": "code",
   "execution_count": null,
   "metadata": {},
   "outputs": [
    {
     "data": {
      "text/plain": [
       "0"
      ]
     },
     "metadata": {},
     "output_type": "display_data"
    },
    {
     "data": {
      "text/html": [
       "<div>\n",
       "<style scoped>\n",
       "    .dataframe tbody tr th:only-of-type {\n",
       "        vertical-align: middle;\n",
       "    }\n",
       "\n",
       "    .dataframe tbody tr th {\n",
       "        vertical-align: top;\n",
       "    }\n",
       "\n",
       "    .dataframe thead th {\n",
       "        text-align: right;\n",
       "    }\n",
       "</style>\n",
       "<table border=\"1\" class=\"dataframe\">\n",
       "  <thead>\n",
       "    <tr style=\"text-align: right;\">\n",
       "      <th></th>\n",
       "      <th>Date</th>\n",
       "      <th>Min</th>\n",
       "      <th>Max</th>\n",
       "    </tr>\n",
       "  </thead>\n",
       "  <tbody>\n",
       "    <tr>\n",
       "      <th>count</th>\n",
       "      <td>133</td>\n",
       "      <td>133.000000</td>\n",
       "      <td>133.000000</td>\n",
       "    </tr>\n",
       "    <tr>\n",
       "      <th>mean</th>\n",
       "      <td>2022-11-17 22:22:33.383458560</td>\n",
       "      <td>-0.756308</td>\n",
       "      <td>0.411870</td>\n",
       "    </tr>\n",
       "    <tr>\n",
       "      <th>min</th>\n",
       "      <td>2022-07-05 00:00:00</td>\n",
       "      <td>-25.882353</td>\n",
       "      <td>0.000000</td>\n",
       "    </tr>\n",
       "    <tr>\n",
       "      <th>25%</th>\n",
       "      <td>2022-09-20 00:00:00</td>\n",
       "      <td>-3.030303</td>\n",
       "      <td>0.000000</td>\n",
       "    </tr>\n",
       "    <tr>\n",
       "      <th>50%</th>\n",
       "      <td>2022-11-21 00:00:00</td>\n",
       "      <td>-0.467290</td>\n",
       "      <td>0.961538</td>\n",
       "    </tr>\n",
       "    <tr>\n",
       "      <th>75%</th>\n",
       "      <td>2023-01-24 00:00:00</td>\n",
       "      <td>0.000000</td>\n",
       "      <td>4.201681</td>\n",
       "    </tr>\n",
       "    <tr>\n",
       "      <th>max</th>\n",
       "      <td>2023-04-04 00:00:00</td>\n",
       "      <td>0.000000</td>\n",
       "      <td>7.526882</td>\n",
       "    </tr>\n",
       "    <tr>\n",
       "      <th>std</th>\n",
       "      <td>NaN</td>\n",
       "      <td>0.000000</td>\n",
       "      <td>6.351772</td>\n",
       "    </tr>\n",
       "  </tbody>\n",
       "</table>\n",
       "</div>"
      ],
      "text/plain": [
       "                                Date         Min         Max\n",
       "count                            133  133.000000  133.000000\n",
       "mean   2022-11-17 22:22:33.383458560   -0.756308    0.411870\n",
       "min              2022-07-05 00:00:00  -25.882353    0.000000\n",
       "25%              2022-09-20 00:00:00   -3.030303    0.000000\n",
       "50%              2022-11-21 00:00:00   -0.467290    0.961538\n",
       "75%              2023-01-24 00:00:00    0.000000    4.201681\n",
       "max              2023-04-04 00:00:00    0.000000    7.526882\n",
       "std                              NaN    0.000000    6.351772"
      ]
     },
     "metadata": {},
     "output_type": "display_data"
    },
    {
     "data": {
      "text/plain": [
       "(133, 105)"
      ]
     },
     "metadata": {},
     "output_type": "display_data"
    }
   ],
   "source": [
    "display(val_set_ran_feng.isna().any().sum())\n",
    "display(util.summary_dataset_describe(dataset=val_set_ran_feng))\n",
    "display(val_set_ran_feng.shape)"
   ]
  },
  {
   "cell_type": "code",
   "execution_count": null,
   "metadata": {},
   "outputs": [],
   "source": []
  },
  {
   "attachments": {},
   "cell_type": "markdown",
   "metadata": {},
   "source": [
    "## 4. Feature Selection"
   ]
  },
  {
   "attachments": {},
   "cell_type": "markdown",
   "metadata": {},
   "source": [
    "### 4.1 Filter Correlated Feature"
   ]
  },
  {
   "cell_type": "code",
   "execution_count": 13,
   "metadata": {},
   "outputs": [],
   "source": [
    "def keep_correlated_features(dataset, params):\n",
    "    #define the target return column name\n",
    "    target_return_column_name = f\"{params['target']} Return D+2\"\n",
    "\n",
    "    # define the correlated features\n",
    "    corr_stock = dataset.corrwith(dataset[target_return_column_name], axis=0).nlargest(10)\n",
    "\n",
    "    # keep correlated features\n",
    "    dataset = dataset[corr_stock]\n",
    "\n",
    "    return dataset"
   ]
  },
  {
   "cell_type": "code",
   "execution_count": 20,
   "metadata": {},
   "outputs": [
    {
     "data": {
      "text/plain": [
       "BMRI.JK Return D+2    1.000000\n",
       "JKON.JK               0.280301\n",
       "PTIS.JK               0.242115\n",
       "BBCA.JK               0.211299\n",
       "JPFA.JK               0.177304\n",
       "BNBR.JK               0.167255\n",
       "TMAS.JK               0.155400\n",
       "CASS.JK               0.146708\n",
       "MLIA.JK               0.138005\n",
       "AISA.JK               0.122294\n",
       "dtype: float64"
      ]
     },
     "execution_count": 20,
     "metadata": {},
     "output_type": "execute_result"
    }
   ],
   "source": [
    "#keep_correlated_features(dataset=train_set_feng, params=config_data)\n",
    "target_return_column_name = f\"{config_data['target']} Return D+2\"\n",
    "#corr_stock = val_set_feng.corr()['BMRI.JK Return D+2'].nlargest(10)\n",
    "corr_stock = test_set_feng.corrwith(test_set_feng[target_return_column_name], axis=0).nlargest(10)\n",
    "corr_stock\n"
   ]
  },
  {
   "cell_type": "code",
   "execution_count": null,
   "metadata": {},
   "outputs": [],
   "source": []
  },
  {
   "cell_type": "code",
   "execution_count": null,
   "metadata": {},
   "outputs": [],
   "source": [
    "data = transform_to_stock_return(dataset=valid_set, params=config_data)\n",
    "corr_stock = data.corrwith(data[target_return_column_name], axis=0, numeric_only=True).nlargest(10)\n"
   ]
  },
  {
   "cell_type": "code",
   "execution_count": null,
   "metadata": {},
   "outputs": [],
   "source": [
    "corr_stock"
   ]
  },
  {
   "cell_type": "code",
   "execution_count": null,
   "metadata": {},
   "outputs": [],
   "source": [
    "import matplotlib.pyplot as plt\n",
    "import seaborn as sns\n",
    "\n",
    "raw_dataset = util.pickle_load(config_data['raw_dataset_path'])\n",
    "df_nan = raw_dataset.isna().sum()\n",
    "plt.figure(figsize=(10,5))\n",
    "sns.histplot(df_nan)\n",
    "plt.xlabel('Nan Range per column')\n",
    "plt.ylabel('Frequency')\n",
    "plt.title('Distribution of BMRI Return')\n",
    "plt.show()\n",
    "\n",
    "df_nan"
   ]
  },
  {
   "cell_type": "code",
   "execution_count": null,
   "metadata": {},
   "outputs": [],
   "source": [
    "corr_stock = raw_dataset.corrwith(raw_dataset['BMRI.JK'], axis=0, numeric_only=True).nlargest(10)\n"
   ]
  },
  {
   "cell_type": "code",
   "execution_count": null,
   "metadata": {},
   "outputs": [],
   "source": [
    "corr_stock"
   ]
  },
  {
   "cell_type": "code",
   "execution_count": null,
   "metadata": {},
   "outputs": [],
   "source": [
    "raw_dataset_feng = transform_to_stock_return(dataset=raw_dataset, params=config_data)\n"
   ]
  },
  {
   "cell_type": "code",
   "execution_count": null,
   "metadata": {},
   "outputs": [],
   "source": [
    "raw_dataset_feng.corrwith(raw_dataset_feng['BMRI.JK Return D+2'], axis=0, numeric_only=True).nlargest(10)\n"
   ]
  },
  {
   "cell_type": "code",
   "execution_count": null,
   "metadata": {},
   "outputs": [],
   "source": [
    "valid_set_feng = transform_to_stock_return(dataset=valid_set, params=config_data)"
   ]
  },
  {
   "cell_type": "code",
   "execution_count": null,
   "metadata": {},
   "outputs": [],
   "source": [
    "test_set.corrwith(test_set['BMRI.JK'], axis=0, numeric_only=True).nlargest(10)\n"
   ]
  },
  {
   "cell_type": "code",
   "execution_count": null,
   "metadata": {},
   "outputs": [],
   "source": [
    "valid_set.describe()"
   ]
  },
  {
   "cell_type": "code",
   "execution_count": null,
   "metadata": {},
   "outputs": [],
   "source": [
    "train_set_trial = (train_set-train_set.shift(periods=1))*100/train_set.shift(periods=1)\n",
    "\n"
   ]
  },
  {
   "cell_type": "code",
   "execution_count": null,
   "metadata": {},
   "outputs": [],
   "source": [
    "plt.figure(figsize=(10,5))\n",
    "sns.histplot(train_set_feng.isna().sum())\n",
    "plt.xlabel('Nan Range per column')\n",
    "plt.ylabel('Frequency')\n",
    "plt.title('Distribution of BMRI Return')\n",
    "plt.show()"
   ]
  },
  {
   "cell_type": "code",
   "execution_count": null,
   "metadata": {},
   "outputs": [],
   "source": [
    "plt.figure(figsize=(10,5))\n",
    "sns.histplot(train_set.isna().sum())\n",
    "plt.xlabel('Nan Range per column')\n",
    "plt.ylabel('Frequency')\n",
    "plt.title('Distribution of BMRI Return')\n",
    "plt.show()"
   ]
  },
  {
   "cell_type": "code",
   "execution_count": null,
   "metadata": {},
   "outputs": [],
   "source": [
    "raw_dataset"
   ]
  },
  {
   "cell_type": "code",
   "execution_count": null,
   "metadata": {},
   "outputs": [],
   "source": []
  }
 ],
 "metadata": {
  "kernelspec": {
   "display_name": "Python 3",
   "language": "python",
   "name": "python3"
  },
  "language_info": {
   "codemirror_mode": {
    "name": "ipython",
    "version": 3
   },
   "file_extension": ".py",
   "mimetype": "text/x-python",
   "name": "python",
   "nbconvert_exporter": "python",
   "pygments_lexer": "ipython3",
   "version": "3.11.2"
  },
  "orig_nbformat": 4
 },
 "nbformat": 4,
 "nbformat_minor": 2
}
